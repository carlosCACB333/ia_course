{
 "cells": [
  {
   "attachments": {},
   "cell_type": "markdown",
   "metadata": {},
   "source": [
    "# Ejercicios propuestos"
   ]
  },
  {
   "attachments": {},
   "cell_type": "markdown",
   "metadata": {},
   "source": [
    "1. Con una lista de números enteros, calcula la suma de los números pares de la lista y la multiplicación de los números impares. "
   ]
  },
  {
   "cell_type": "code",
   "execution_count": 10,
   "metadata": {},
   "outputs": [
    {
     "name": "stdout",
     "output_type": "stream",
     "text": [
      "La suma de los numeros pares es 6\n",
      "La multiplicacion de los numeros impares es 3\n"
     ]
    }
   ],
   "source": [
    "from functools import reduce\n",
    "\n",
    "\n",
    "nums = [1,2,3,4]\n",
    "sum_even = sum([x for x in nums if x%2==0])\n",
    "mult_odd = reduce(lambda x,y: x*y, [x for x in nums if x%2!=0])\n",
    "print(f\"La suma de los numeros pares es {sum_even}\")\n",
    "print(f\"La multiplicacion de los numeros impares es {mult_odd}\")"
   ]
  },
  {
   "attachments": {},
   "cell_type": "markdown",
   "metadata": {},
   "source": [
    "2.\tImagina que acabas de abrir una nueva cuenta de ahorros que te ofrece el 4% de interés al año. Estos ahorros debido a intereses, que no se cobran hasta finales de año, se te añaden al balance final de tu cuenta de ahorros. Escribir un programa que comience leyendo la cantidad de dinero depositada en la cuenta de ahorros, introducida por el usuario. Después el programa debe calcular y mostrar por pantalla la cantidad de ahorros tras el primer, segundo y tercer años. Redondear cada cantidad a dos decimales. "
   ]
  },
  {
   "cell_type": "code",
   "execution_count": 12,
   "metadata": {},
   "outputs": [
    {
     "name": "stdout",
     "output_type": "stream",
     "text": [
      "El monto en el año  1 es: 104.00\n",
      "El monto en el año  2 es: 108.16\n",
      "El monto en el año  3 es: 112.49\n"
     ]
    }
   ],
   "source": [
    "rate = 0.04\n",
    "amount = float(input(\"Ingrese el monto a invertir: \"))\n",
    "years = int(input(\"Ingrese la cantidad de años a invertir: \"))\n",
    "\n",
    "for i in range(years):\n",
    "    amount *= (1 + rate)\n",
    "    print(f\"El monto en el año {i+1:2d} es: {amount:.2f}\")"
   ]
  },
  {
   "attachments": {},
   "cell_type": "markdown",
   "metadata": {},
   "source": [
    "3.\tEscribir un programa para una empresa que tiene salas de juegos para todas las edades y quiere calcular de forma automática el precio que debe cobrar a sus clientes por entrar. El programa debe preguntar al usuario la edad del cliente y mostrar el precio de la entrada. Si el cliente es menor de 7 años puede entrar gratis, si tiene entre 7 y 18 años debe pagar S/.5 soles y si es mayor de 18 años, S/.10 soles. "
   ]
  },
  {
   "cell_type": "code",
   "execution_count": 15,
   "metadata": {},
   "outputs": [
    {
     "name": "stdout",
     "output_type": "stream",
     "text": [
      "El precio de la entrada es: S/ 10.00\n"
     ]
    }
   ],
   "source": [
    "age = int(input(\"Ingrese su edad: \"))\n",
    "prece = 0 if age < 7 else 5 if age <= 18 else 10\n",
    "print(f\"El precio de la entrada es: S/ {prece:.2f}\")"
   ]
  },
  {
   "attachments": {},
   "cell_type": "markdown",
   "metadata": {},
   "source": [
    "4.\tPedir un valor numérico máximo y sumar todos los múltiplos de 5 dentro de ese número."
   ]
  },
  {
   "cell_type": "code",
   "execution_count": 16,
   "metadata": {},
   "outputs": [
    {
     "name": "stdout",
     "output_type": "stream",
     "text": [
      "El producto de los múltiplos de 5 es: 1050\n"
     ]
    }
   ],
   "source": [
    "max=int(input(\"Ingrese el número máximo: \"))\n",
    "prod= reduce(lambda x,y: x+y, [x for x in range(5,max+1,5)])\n",
    "print(f\"El producto de los múltiplos de 5 es: {prod}\")"
   ]
  },
  {
   "attachments": {},
   "cell_type": "markdown",
   "metadata": {},
   "source": [
    "5.\tEscribir un programa que guarde en un diccionario los precios de las frutas de la tabla, pregunte al usuario por una fruta, un número de kilos y muestre por pantalla el precio de ese número de kilos de fruta. Si la fruta no está en el diccionario debe mostrar un mensaje informando de ello."
   ]
  },
  {
   "cell_type": "code",
   "execution_count": 18,
   "metadata": {},
   "outputs": [
    {
     "name": "stdout",
     "output_type": "stream",
     "text": [
      "El precio de la fruta Plátano es: S/ 6.75\n"
     ]
    }
   ],
   "source": [
    "fruits ={'Plátano':1.35, 'Manzana':0.8, 'Pera':0.85, 'Naranja':0.7}\n",
    "fruit = input(\"Ingrese el nombre de la fruta: \")\n",
    "kg = float(input(\"Ingrese la cantidad de kilos: \"))\n",
    "msg= f\"El precio de la fruta {fruit} es: S/ {fruits[fruit]*kg:.2f}\" if fruit in fruits else \"La fruta no está en la lista\"\n",
    "print(msg)"
   ]
  }
 ],
 "metadata": {
  "kernelspec": {
   "display_name": "ia_course",
   "language": "python",
   "name": "python3"
  },
  "language_info": {
   "codemirror_mode": {
    "name": "ipython",
    "version": 3
   },
   "file_extension": ".py",
   "mimetype": "text/x-python",
   "name": "python",
   "nbconvert_exporter": "python",
   "pygments_lexer": "ipython3",
   "version": "3.9.16"
  },
  "orig_nbformat": 4
 },
 "nbformat": 4,
 "nbformat_minor": 2
}
